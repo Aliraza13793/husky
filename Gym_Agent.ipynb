{
  "nbformat": 4,
  "nbformat_minor": 0,
  "metadata": {
    "colab": {
      "provenance": [],
      "include_colab_link": true
    },
    "kernelspec": {
      "name": "python3",
      "display_name": "Python 3"
    },
    "language_info": {
      "name": "python"
    }
  },
  "cells": [
    {
      "cell_type": "markdown",
      "metadata": {
        "id": "view-in-github",
        "colab_type": "text"
      },
      "source": [
        "<a href=\"https://colab.research.google.com/github/Aliraza13793/husky/blob/master/Gym_Agent.ipynb\" target=\"_parent\"><img src=\"https://colab.research.google.com/assets/colab-badge.svg\" alt=\"Open In Colab\"/></a>"
      ]
    },
    {
      "cell_type": "code",
      "execution_count": 1,
      "metadata": {
        "id": "6zIH74gL_ANH"
      },
      "outputs": [],
      "source": [
        "%%capture --no-stderr\n",
        "%pip install --q -U langchain_google_genai langchain_core langgraph"
      ]
    },
    {
      "cell_type": "code",
      "source": [
        "from google.colab import userdata\n",
        "GOOGLE_API_KEY_1 = userdata.get('GOOGLE_API_KEY_1')"
      ],
      "metadata": {
        "id": "jCEBzdL6_saJ"
      },
      "execution_count": 2,
      "outputs": []
    },
    {
      "cell_type": "code",
      "source": [
        "from langchain_google_genai import ChatGoogleGenerativeAI\n",
        "from langchain_google_genai import ChatGoogleGenerativeAI\n",
        "# Function to handle user input and provide Ali gym information\n",
        "\n",
        "def aligym(help: str) -> str:\n",
        "    \"\"\"\n",
        "    A function to provide information about Ali Gym services and general health guidance.\n",
        "\n",
        "    This function processes user queries about Ali Gym and returns relevant information based on\n",
        "    keyword matching. It can provide details about gym services, contact information, fitness advice,\n",
        "    and general health tips.\n",
        "\n",
        "    Parameters\n",
        "    ----------\n",
        "    help : str\n",
        "        A string containing the user's query. The function processes this string case-insensitively\n",
        "        to match keywords and provide appropriate responses.\n",
        "\n",
        "    Returns\n",
        "    -------\n",
        "    str\n",
        "        A response string containing the requested information. Responses include:\n",
        "        - Contact information for Ali Gym\n",
        "        - Exercise guidance for beginners\n",
        "        - Energy boosting tips\n",
        "        - Nutritional advice\n",
        "        - Fitness activity suggestions\n",
        "        - Sleep improvement recommendations\n",
        "        - Mental health and stress management tips\n",
        "        - Hydration guidelines\n",
        "        - Physical activity recommendations\n",
        "        - Work break strategies\n",
        "        - Gym timing information\n",
        "        - Fee structure details\n",
        "        - Owner information\n",
        "        - Gym address\n",
        "        - Basic healthcare tips\n",
        "\n",
        "    Examples\n",
        "    --------\n",
        "    >>> aligym(\"Contact Number\")\n",
        "    \"Contact Number of Ali gym is : 0322 4200458 olso contact on wtsapp\"\n",
        "\n",
        "    >>> aligym(\"gym timing\")\n",
        "    \"our gym timing is Moring:6:am to 9:00am Evening timing: 4:00pm to 9pm.\"\n",
        "\n",
        "    >>> aligym(\"fee of gym\")\n",
        "    \"Our Gym fees with Trainer is 10000/- per Month and Witout Trainer fee is 7000/-.\"\n",
        "\n",
        "    Notes\n",
        "    -----\n",
        "    - All input strings are converted to lowercase before processing\n",
        "    - Keywords are matched using 'in' operator for flexible matching\n",
        "    - The function provides general health and fitness advice along with gym-specific information\n",
        "    - For unmatched queries, it's recommended to add an else clause to handle undefined cases\n",
        "\n",
        "\n",
        "    \"\"\"\n",
        "    help = help.lower()\n",
        "\n",
        "    # General health information\n",
        "    if \"water\" in help and \"daily\" in help:\n",
        "        return (\"A good rule of thumb is to drink about 8 cups (2 liters) of water a day. \"\n",
        "                \"However, this can vary based on your activity level, the climate, and your overall health. \"\n",
        "                \"If you're thirsty, drink more water!\")\n",
        "\n",
        "    elif \"exercise\" in help and \"beginners\" in help:\n",
        "        return (\"If you're new to exercise, start with simple activities like walking, light jogging, or yoga. \"\n",
        "                \"You can also try bodyweight exercises like squats, lunges, and push-ups. \"\n",
        "                \"Aim for at least 30 minutes of moderate activity most days of the week.\")\n",
        "\n",
        "    elif \"boost\" in help and \"energy\" in help:\n",
        "        return (\"To boost your energy naturally, eat well-balanced meals with whole foods, stay hydrated, \"\n",
        "                \"and aim for 7-9 hours of sleep per night. Taking short breaks during the day to stretch or walk can also help.\")\n",
        "\n",
        "    elif \"nutrition\" in help:\n",
        "        return (\"For a balanced diet, try to include plenty of fruits, vegetables, whole grains, lean proteins, \"\n",
        "                \"and healthy fats. A simple meal could be grilled chicken with quinoa and steamed vegetables, or a salad with mixed greens, nuts, and avocado.\")\n",
        "\n",
        "    elif \"fitness\" in help:\n",
        "        return (\"Simple fitness activities like walking, cycling, swimming, or yoga are great for all fitness levels. \"\n",
        "                \"Start slow and gradually increase the intensity. Remember to include warm-ups and cool-downs in your routine.\")\n",
        "\n",
        "    elif \"sleep\" in help:\n",
        "        return (\"To improve your sleep quality, establish a regular sleep schedule, avoid screen time before bed, \"\n",
        "                \"and make your bedroom a relaxing environment (dark, cool, and quiet). Aim for 7-9 hours of sleep each night.\")\n",
        "\n",
        "    elif \"mental health\" in help:\n",
        "        return (\"Managing stress is important for mental well-being. Try relaxation techniques like deep breathing, meditation, or mindfulness. \"\n",
        "                \"Taking breaks during the day, staying active, and spending time with loved ones can also help manage stress.\")\n",
        "\n",
        "    elif \"hydrate\" in help:\n",
        "        return (\"Staying hydrated is crucial for overall health. Drink water throughout the day, especially if you're active or in a hot environment. \"\n",
        "                \"Aim to drink at least 8 cups of water daily, and more if you're exercising.\")\n",
        "\n",
        "    elif \"physical activity\" in help:\n",
        "        return (\"Regular physical activity is essential for maintaining health. You don't have to do intense workouts—walking, stretching, and other light activities can be beneficial. \"\n",
        "                \"Try to get at least 150 minutes of moderate activity each week.\")\n",
        "\n",
        "    elif \"breaks\" in help and \"work\" in help:\n",
        "        return (\"Taking regular breaks is important to avoid burnout. Try the 'Pomodoro technique': work for 25 minutes, then take a 5-minute break. \"\n",
        "                \"Stretch, take a walk, or do something you enjoy during your breaks to refresh your mind and body.\")\n",
        "    elif \"owner\"  in help:\n",
        "        return (\"ali raza akram is the owner of aligym.\")\n",
        "\n",
        "    elif \"timing\"  in help:\n",
        "        return (\"timing is 06.am to 9am\")\n",
        "\n",
        "    elif \"fee\"  in help:\n",
        "        return (\"fee of aligym is 10000/-\")\n",
        "\n",
        "    elif \"contact\"  in help:\n",
        "        return (\"Our Contact Number is  03224200458\")\n",
        "\n",
        "    # Provide general health tips\n",
        "    elif \"basic health care\" in help:\n",
        "        return (\"Basic health care includes a few simple habits that can significantly improve your well-being. \"\n",
        "                \"Here are some tips:\\n\"\n",
        "                \"1. Stay hydrated by drinking water throughout the day.\\n\"\n",
        "                \"2. Get at least 30 minutes of exercise most days of the week.\\n\"\n",
        "                \"3. Eat a balanced diet with a variety of fruits, vegetables, and whole grains.\\n\"\n",
        "                \"4. Aim for 7-9 hours of sleep each night.\\n\"\n",
        "                \"5. Practice stress management techniques like deep breathing or mindfulness.\\n\"\n",
        "                \"6. Take regular breaks, especially if you're working long hours.\\n\"\n",
        "                \"Remember, these are just general tips. Always consult with a healthcare professional for personalized advice.\")\n",
        "\n",
        "    else:\n",
        "      return (\"Sorry, I couldn't understand your query.Let me connect you to a human assistant for this question!\")\n",
        "\n",
        "\n",
        "\n",
        "llm = ChatGoogleGenerativeAI(model=\"gemini-1.5-flash\", api_key=GOOGLE_API_KEY_1)\n",
        "llm_with_tools = llm.bind_tools([aligym])"
      ],
      "metadata": {
        "id": "OLhfUQai_9_4"
      },
      "execution_count": 3,
      "outputs": []
    },
    {
      "cell_type": "code",
      "source": [
        "from IPython.display import Image, display\n",
        "from langgraph.graph import StateGraph, START, END\n",
        "from langgraph.graph import MessagesState\n",
        "from langgraph.prebuilt import ToolNode\n",
        "from langgraph.prebuilt import tools_condition\n",
        "from langgraph.graph.state import CompiledStateGraph\n",
        "from langchain_core.messages import AIMessage, HumanMessage, SystemMessage\n",
        "\n",
        "\n",
        "sys_msg = SystemMessage(content=\"You are a helpful assistant for providing help or information about Ali gym , Use in the conditional_edge to route to the ToolNode if the last message has tool calls. Otherwise, route to the end..\")\n",
        "\n",
        "# Node\n",
        "def assistant(state: MessagesState) -> MessagesState:\n",
        "   return {\"messages\": [llm_with_tools.invoke([sys_msg] + state[\"messages\"])]}\n",
        "\n",
        "# building a graph\n",
        "builder: StateGraph = StateGraph(MessagesState)\n",
        "builder.add_node(\"tool_calling_llm\", assistant)\n",
        "builder.add_node(\"tools\", ToolNode([aligym]))\n",
        "builder.add_edge(START, \"tool_calling_llm\")\n",
        "builder.add_conditional_edges(\n",
        "    \"tool_calling_llm\",\n",
        "    # if the latest msg (result) from assistant is a tool call -> tools  condt routes to tools\n",
        "    # if the latest msg  result from assistant is a not a tool calling -> tools cont routes to END\n",
        "    tools_condition,\n",
        ")\n",
        "builder.add_edge(\"tools\", \"tool_calling_llm\")\n",
        "graph: CompiledStateGraph = builder.compile()\n",
        "\n",
        "#view\n",
        "display(Image(graph.get_graph().draw_mermaid_png()))"
      ],
      "metadata": {
        "colab": {
          "base_uri": "https://localhost:8080/",
          "height": 266
        },
        "id": "zziAink3Fu9f",
        "outputId": "4033bf61-28b4-4d5b-eae7-1f20aed318cc"
      },
      "execution_count": 5,
      "outputs": [
        {
          "output_type": "display_data",
          "data": {
            "image/png": "[encoded data removed]",
            "text/plain": [
              "<IPython.core.display.Image object>"
            ]
          },
          "metadata": {}
        }
      ]
    },
    {
      "cell_type": "code",
      "source": [
        "from langgraph.checkpoint.memory import MemorySaver\n",
        "memory: MemorySaver = MemorySaver()\n",
        "react_graph_memory: CompiledStateGraph = builder.compile(checkpointer=memory)"
      ],
      "metadata": {
        "id": "twZTnn5gGLAq"
      },
      "execution_count": 6,
      "outputs": []
    },
    {
      "cell_type": "code",
      "source": [
        "config = {\"configurable\": {\"thread_id\": \"1\"}}\n",
        "\n",
        "messages = [HumanMessage(content=\"What is the contact of ali gym\")]\n",
        "messages = react_graph_memory.invoke({\"messages\": messages}, config=config)\n",
        "for n in messages['messages']:\n",
        "    n.pretty_print()"
      ],
      "metadata": {
        "colab": {
          "base_uri": "https://localhost:8080/"
        },
        "id": "XbxbhQ7VJnK5",
        "outputId": "f24973d6-5f92-4684-a7b8-d763ecbc3e8e"
      },
      "execution_count": 7,
      "outputs": [
        {
          "output_type": "stream",
          "name": "stdout",
          "text": [
            "================================\u001b[1m Human Message \u001b[0m=================================\n",
            "\n",
            "What is the contact of ali gym\n",
            "==================================\u001b[1m Ai Message \u001b[0m==================================\n",
            "Tool Calls:\n",
            "  aligym (3473abbe-4ef3-4b90-8df9-0543cde50571)\n",
            " Call ID: 3473abbe-4ef3-4b90-8df9-0543cde50571\n",
            "  Args:\n",
            "    help: Contact Number\n",
            "=================================\u001b[1m Tool Message \u001b[0m=================================\n",
            "Name: aligym\n",
            "\n",
            "Our Contact Number is  03224200458\n",
            "==================================\u001b[1m Ai Message \u001b[0m==================================\n",
            "\n",
            "Contact Number of Ali gym is : 0322 4200458 olso contact on wtsapp\n"
          ]
        }
      ]
    },
    {
      "cell_type": "code",
      "source": [],
      "metadata": {
        "id": "9-J0pxUILULb"
      },
      "execution_count": null,
      "outputs": []
    }
  ]
}